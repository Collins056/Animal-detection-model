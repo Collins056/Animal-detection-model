{
 "cells": [
  {
   "cell_type": "code",
   "execution_count": 1,
   "metadata": {},
   "outputs": [],
   "source": [
    "import os\n",
    "import numpy as np\n",
    "from tensorflow.keras.preprocessing.image import load_img, img_to_array\n",
    "from tensorflow.keras.models import load_model"
   ]
  },
  {
   "cell_type": "code",
   "execution_count": 2,
   "metadata": {},
   "outputs": [],
   "source": [
    "#Defining the path to the test data directory\n",
    "test_dir = (os.path.join(os.getcwd(), 'Test'))"
   ]
  },
  {
   "cell_type": "code",
   "execution_count": 3,
   "metadata": {},
   "outputs": [],
   "source": [
    "# Defining the target image size\n",
    "target_size = (224, 224)"
   ]
  },
  {
   "cell_type": "code",
   "execution_count": 4,
   "metadata": {},
   "outputs": [],
   "source": [
    "#Defining the class labels\n",
    "class_labels = ['Bull', 'Chicken', 'Elephant', 'Fox']"
   ]
  },
  {
   "cell_type": "code",
   "execution_count": 5,
   "metadata": {},
   "outputs": [],
   "source": [
    "#Loading the trained model\n",
    "model_path = 'Cap_Mod.h5'\n",
    "model = load_model(model_path)"
   ]
  },
  {
   "cell_type": "code",
   "execution_count": 6,
   "metadata": {},
   "outputs": [],
   "source": [
    "# Loop over each class directory\n",
    "for class_name in class_labels:\n",
    "    class_dir = os.path.join(test_dir, class_name)"
   ]
  },
  {
   "cell_type": "code",
   "execution_count": 7,
   "metadata": {},
   "outputs": [],
   "source": [
    "# Loop over each image file in the class directory\n",
    "for filename in os.listdir(class_dir):\n",
    "    if filename.endswith('.jpg'):\n",
    "        # Load the image and preprocess it\n",
    "        image_path = os.path.join(class_dir, filename)\n",
    "        image = load_img(image_path, target_size=target_size)\n",
    "        image_array = img_to_array(image)\n",
    "        image_array = image_array / 255.0\n",
    "        image_batch = np.expand_dims(image_array, axis=0)"
   ]
  },
  {
   "cell_type": "code",
   "execution_count": 18,
   "metadata": {},
   "outputs": [
    {
     "name": "stdout",
     "output_type": "stream",
     "text": [
      "1/1 [==============================] - 0s 107ms/step\n"
     ]
    }
   ],
   "source": [
    "# Making a prediction for the image\n",
    "prediction = model.predict(image_batch)\n",
    "predicted_label = class_labels[np.argmax(prediction)]"
   ]
  },
  {
   "cell_type": "code",
   "execution_count": 19,
   "metadata": {},
   "outputs": [
    {
     "name": "stdout",
     "output_type": "stream",
     "text": [
      "Label - predicted: Fox\n"
     ]
    }
   ],
   "source": [
    "# Printing the predicted label and file name\n",
    "print(f'{filename} - predicted: {predicted_label}')"
   ]
  }
 ],
 "metadata": {
  "kernelspec": {
   "display_name": "Python 3",
   "language": "python",
   "name": "python3"
  },
  "language_info": {
   "codemirror_mode": {
    "name": "ipython",
    "version": 3
   },
   "file_extension": ".py",
   "mimetype": "text/x-python",
   "name": "python",
   "nbconvert_exporter": "python",
   "pygments_lexer": "ipython3",
   "version": "3.10.2"
  },
  "orig_nbformat": 4
 },
 "nbformat": 4,
 "nbformat_minor": 2
}
